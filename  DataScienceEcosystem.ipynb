{
 "cells": [
  {
   "cell_type": "markdown",
   "id": "a5dbe6ac-4e5c-4729-a87e-298f5c1c7130",
   "metadata": {},
   "source": [
    "#  Data Science Tools and Ecosystem"
   ]
  },
  {
   "cell_type": "markdown",
   "id": "63f7a8f4-867a-4e8e-82ba-b18bdb981a43",
   "metadata": {},
   "source": [
    "# In this notebook, Data Science Tools and Ecosystem are summarized."
   ]
  },
  {
   "cell_type": "markdown",
   "id": "36b46a2b-f176-44d2-af4f-2c218a00fb3a",
   "metadata": {},
   "source": [
    "# Some of the popular languages that Data Scientists use are:\n",
    "+R\n",
    "+SQL\n",
    "+PYTHON\n",
    "+JAVA"
   ]
  },
  {
   "cell_type": "markdown",
   "id": "09808bb5-bebe-4354-9da6-59a801cca800",
   "metadata": {},
   "source": [
    "**Objectives:**\n",
    "#List popular languages for Data Science.\n",
    "PYTHON\n",
    "R\n",
    "SQL"
   ]
  },
  {
   "cell_type": "markdown",
   "id": "35d561af-7cc6-41a7-911d-d4362a1326ba",
   "metadata": {},
   "source": [
    "# Some of the commonly used libraries used by Data Scientists include:\n",
    "+TensorFlow\r",
    "+\n",
    "NumPy+\r\n",
    "SciPy+ \r\n",
    "Pand+as\r\n",
    "Matplotlib "
   ]
  },
  {
   "cell_type": "markdown",
   "id": "428ad22c-1ea9-4ce7-a56f-ef61c81fb6a8",
   "metadata": {},
   "source": [
    "|Data Science Tools |\n",
    "|-------------------|\n",
    "|Matplotlib|\n",
    "|Pandas|\n",
    "|NumPy|\n",
    " |Sci-Kit Learn| \n",
    " |Scrapy|\n",
    " |KNIME|"
   ]
  },
  {
   "cell_type": "code",
   "execution_count": null,
   "id": "3238a30b-7332-4d01-a285-ec13b6bb832c",
   "metadata": {},
   "outputs": [],
   "source": [
    "### Below are a few examples of evaluating arithmetic expressions in Python"
   ]
  },
  {
   "cell_type": "code",
   "execution_count": 8,
   "id": "a31fe878-6be6-4ecb-8bfe-eab9c2e84f56",
   "metadata": {},
   "outputs": [
    {
     "data": {
      "text/plain": [
       "17.0"
      ]
     },
     "execution_count": 8,
     "metadata": {},
     "output_type": "execute_result"
    }
   ],
   "source": [
    " # This a simple arithmetic expression to mutiply then add integers.\n",
    "(3*4)+5."
   ]
  },
  {
   "cell_type": "code",
   "execution_count": 9,
   "id": "ca9c5c16-e562-4bcd-adae-810e76fdcb9c",
   "metadata": {},
   "outputs": [
    {
     "data": {
      "text/plain": [
       "3.3333333333333335"
      ]
     },
     "execution_count": 9,
     "metadata": {},
     "output_type": "execute_result"
    }
   ],
   "source": [
    "# This will convert 200 minutes to hours by diving by 60.\n",
    "200/60"
   ]
  },
  {
   "cell_type": "markdown",
   "id": "5294c3f5-e417-498f-a597-8652e33eae5e",
   "metadata": {},
   "source": [
    "##Author\n",
    "ABHAY"
   ]
  }
 ],
 "metadata": {
  "kernelspec": {
   "display_name": "Python 3 (ipykernel)",
   "language": "python",
   "name": "python3"
  },
  "language_info": {
   "codemirror_mode": {
    "name": "ipython",
    "version": 3
   },
   "file_extension": ".py",
   "mimetype": "text/x-python",
   "name": "python",
   "nbconvert_exporter": "python",
   "pygments_lexer": "ipython3",
   "version": "3.11.7"
  }
 },
 "nbformat": 4,
 "nbformat_minor": 5
}
